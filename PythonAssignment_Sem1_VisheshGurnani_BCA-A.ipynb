{
 "cells": [
  {
   "cell_type": "code",
   "execution_count": null,
   "id": "0b548bd6-bf60-48b7-a88f-7770aa177348",
   "metadata": {},
   "outputs": [],
   "source": [
    "#Question 1\n",
    "\n",
    "x=int(input(\"Enter a number: \")) #takes first input from user(integer)\n",
    "y=int(input(\"Enter another number: \")) #takes another integer as input from user\n",
    "\n",
    "#addition\n",
    "print(f\"The sum of {x} and {y} =\", x+y) #used + opperator \n",
    "\n",
    "#subtraction\n",
    "print(f\"The difference of {x} and {y} =\", x-y) #used - opperator\n",
    "\n",
    "#multiplication \n",
    "print(f\"The product of {x} and {y} =\", x*y) #used * operator\n",
    "\n",
    "#divison\n",
    "print(f\"The quotient of {x} by {y} =\", x/y) #used / operator for float answer\n",
    "\n",
    "#remainder\n",
    "print(f\"The remainder of {x} by {y} =\", x%y) #used the % operator\n",
    "\n",
    "#exponentiation \n",
    "print(f\"The answer of {x} to the power of {y} is=\", x**y) #used the ** operator\n",
    "\n",
    "#floor division\n",
    "print(f\"The floor division quotient of {x} by {y} is=\", x//y) #used // operator to get absolute answer"
   ]
  },
  {
   "cell_type": "code",
   "execution_count": null,
   "id": "af06f8e7-c10a-4948-a5ae-6bee10907b9c",
   "metadata": {},
   "outputs": [],
   "source": [
    "#Question 2\n",
    "\n",
    "x=int(input(\"Enter a number: \"))\n",
    "y=int(input(\"Enter another number: \"))\n",
    "\n",
    "if x>y: #conditional statement with condition as x is greater than y\n",
    "    print(f\"{x} is greater than {y}\")\n",
    "    \n",
    "if x==y: #conditional statement with condition as x is equal to y\n",
    "    print(f\"{x} is equal to {y}\")\n",
    "    \n",
    "if x<=y: #conditional statement with condition as x is less than or equal to y \n",
    "    print(f\"{x} is less than or equal to {y}\")"
   ]
  },
  {
   "cell_type": "code",
   "execution_count": null,
   "id": "758fa319-f96a-4692-be38-2408e1c7a56f",
   "metadata": {},
   "outputs": [],
   "source": [
    "#Question 3\n",
    "\n",
    "x=bool(input(\"Enter 1 for True or 0 for False: \")) #takes boolean values as inputs \n",
    "y=bool(input(\"Enter 1 for True or 0 for False: \"))  #takes boolean values as inputs \n",
    "z=bool(input(\"Enter 1 for True or 0 for False: \"))   #takes boolean values as inputs\n",
    "\n",
    "\n",
    "and_operator=x and y and z #the  and operator is used to check if all the conditions are true\n",
    "print(\"The result of the AND operator is: \", and_operator) \n",
    "\n",
    "or_operator=x or y or z  #the or operator is used to check if any of the conditions are true\n",
    "print(\"The result of the OR operator is: \", or_operator)\n",
    "\n",
    "not_operator_x= not  x  #the not operator is used to check if the condition is false\n",
    "print(\"The result of the NOT operator for x is: \", not_operator_x)\n",
    "\n",
    "not_operator_y=not y   #the not operator is used to check if the condition is false\n",
    "print(\"The result of the NOT operator for y is: \", not_operator_y)\n",
    "\n",
    "not_operator_z=not z    #the not operator is used to check if the condition is false\n",
    "print(\"The result of the NOT operator for z is: \", not_operator_z)"
   ]
  },
  {
   "cell_type": "code",
   "execution_count": null,
   "id": "8ff20ab9-d536-4e22-b286-ac98ab0015c4",
   "metadata": {},
   "outputs": [],
   "source": [
    "#Question 4\n",
    "\n",
    "x=input(\"Enter a string: \")\n",
    "\n",
    "print(len(x)) #print the length of the string \n",
    "\n",
    "print(x[0])  # prints the first character of the string\n",
    "\n",
    "print(x[::-1]) #prints the string backwards \n",
    "\n",
    "print(x.upper) #prints the upper case version of th=e string \n",
    "\n",
    "print(x.lower) #prints the lower case version of the string"
   ]
  },
  {
   "cell_type": "code",
   "execution_count": null,
   "id": "3358cef7-3a7b-4947-986d-bbc84a577825",
   "metadata": {},
   "outputs": [],
   "source": [
    "#Question 5\n",
    "\n",
    "x=int(input(\"Enter your age: \")) #takes integer input from user\n",
    "y=input(\"Enter your Name\")  #takes string input from user\n",
    "\n",
    "print(f\"Hello {y}, you are {x} years old\")  #prints the output in the specified format\n"
   ]
  },
  {
   "cell_type": "code",
   "execution_count": 18,
   "id": "b50a6489-bacf-484d-9511-45ffa544c383",
   "metadata": {},
   "outputs": [
    {
     "name": "stdin",
     "output_type": "stream",
     "text": [
      "Enter a sentence:  hi my name is vishesh \n",
      "Enter a word to search for in the sentence:  name\n"
     ]
    },
    {
     "name": "stdout",
     "output_type": "stream",
     "text": [
      "The word 'name' is in the sentence and is positioned at index 6\n"
     ]
    }
   ],
   "source": [
    "#Question 6\n",
    "\n",
    "x=input(\"Enter a sentence: \")\n",
    "y=input(\"Enter a word to search for in the sentence: \")\n",
    "\n",
    "if y in x:  \n",
    "    z=x.index(y)  #gives  the index of the first occurrence of the word\n",
    "    print(f\"The word '{y}' is in the sentence and is positioned at index {z}\") \n",
    "else: \n",
    "    print(f\"The word '{y}' is not in the sentence\")"
   ]
  },
  {
   "cell_type": "code",
   "execution_count": null,
   "id": "974b2e56-71fa-40a5-ae80-a7285515fb0d",
   "metadata": {},
   "outputs": [],
   "source": [
    "#Question 7\n",
    "\n",
    "a=[] #creates an empty list\n",
    "for i in range(5):  \n",
    "    x=int(input(f\"Enter the {i+1} number: \")) #asks for 5 numbers\n",
    "    a.append(x) #the append function adds an element to the end of the list\n",
    "    print(\"The list is: \", a)  #prints the list after each number is added\n",
    "\n",
    "print(\"The sum of all the terms is\", sum(a)) #prints the sum oif all numbers in the list\n",
    "print(\"The largest number in the list is\", max(a)) #prints the largest number in the list\n",
    "print(\"The smallest number in the list is\", min(a)) #prints the smallest number in the list"
   ]
  },
  {
   "cell_type": "code",
   "execution_count": null,
   "id": "ca285295-36b2-4d37-a2fe-01be100cc938",
   "metadata": {},
   "outputs": [],
   "source": [
    "#Question 8\n",
    "\n",
    "a=[] #creates an empty list\n",
    "for i in range(5):  \n",
    "    x=input(f\"Enter a list of fruits you want {i}: \") #asks for user input \n",
    "    a.append(x) #the append function adds an element to the end of the list\n",
    "    print(\"The list is: \", a)  #prints the list after each number is added\n",
    "b=input(\"Enter a fruit of choice: \") #asks for 1 fruit of choice from the user\n",
    "a.append(b) #the list is appended with the fruit of choice\n",
    "print(a.pop(1)) # .pop(1) removes the 2nd item from the list\n",
    "print(\"The final list is: \",a)"
   ]
  },
  {
   "cell_type": "code",
   "execution_count": null,
   "id": "9b516f4d-aa5d-4b6b-9af4-10d2442de55c",
   "metadata": {},
   "outputs": [],
   "source": [
    "#Question 9\n",
    "\n",
    "\n",
    "x = []\n",
    "for i in range(5):\n",
    "    a = int(input(f\"Enter number {i+1}: \")) #Ask the user to input a list of 5 numbers\n",
    "    x.append(a)\n",
    "\n",
    "# Sort the list in ascending order\n",
    "b = sorted(x)\n",
    "print(\"List in ascending order:\", b)\n",
    "\n",
    "# Sort the list in descending order\n",
    "c = sorted(x, reverse=True)\n",
    "print(\"List in descending order:\", c)\n"
   ]
  },
  {
   "cell_type": "code",
   "execution_count": 4,
   "id": "a36f7a62-e72c-4e3f-9404-d9b5198749d5",
   "metadata": {},
   "outputs": [
    {
     "name": "stdout",
     "output_type": "stream",
     "text": [
      "The first 5 elements of the list are: [1, 2, 3, 4, 5]\n",
      "The last 5 elements of the list are: [6, 7, 8, 9, 10]\n",
      "The numbers from index 2 to index 7 are: [3, 4, 5, 6, 7, 8]\n"
     ]
    }
   ],
   "source": [
    "#Question 10\n",
    "\n",
    "x=[1,2,3,4,5,6,7,8,9,10] #predefined list\n",
    "\n",
    "print(\"The first 5 elements of the list are:\", x[:5])\n",
    "print(\"The last 5 elements of the list are:\", x[-5:])\n",
    "print(\"The numbers from index 2 to index 7 are:\", x[2:8])\n"
   ]
  },
  {
   "cell_type": "code",
   "execution_count": null,
   "id": "9a39bdb4-1260-4eff-81ab-26732a6241e6",
   "metadata": {},
   "outputs": [],
   "source": [
    "#Bonus Question: Question 11\n",
    "\n",
    "x = [] #Empty list to store students' data \n",
    "\n",
    "# Taking input for 3 students\n",
    "for i in range(3):\n",
    "    y = input(f\"Enter the name of student {i + 1}: \")  #Taking input for name\n",
    "    scores = []   #Empty list to store scores of each student\n",
    "    for j in range(3):  # 3 subjects\n",
    "        score = float(input(f\"Enter the score for subject {j + 1}: \"))\n",
    "        scores.append(score)\n",
    "    x.append([y, scores])\n",
    "\n",
    "# Calculating and displaying the average score for each student\n",
    "print(\"\\nStudent's Name and Average Score:\")\n",
    "for student in x:  # Iterate over x instead of y\n",
    "    name = student[0]\n",
    "    scores = student[1]\n",
    "    average = sum(scores) / len(scores)  # Calculate average score\n",
    "    print(f\"{name}'s average score: {average:.2f}\")"
   ]
  }
 ],
 "metadata": {
  "kernelspec": {
   "display_name": "Python 3 (ipykernel)",
   "language": "python",
   "name": "python3"
  },
  "language_info": {
   "codemirror_mode": {
    "name": "ipython",
    "version": 3
   },
   "file_extension": ".py",
   "mimetype": "text/x-python",
   "name": "python",
   "nbconvert_exporter": "python",
   "pygments_lexer": "ipython3",
   "version": "3.12.4"
  }
 },
 "nbformat": 4,
 "nbformat_minor": 5
}
